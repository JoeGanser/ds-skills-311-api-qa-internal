{
 "cells": [
  {
   "cell_type": "markdown",
   "metadata": {},
   "source": [
    "# NYC 311 API\n",
    "\n",
    "You've gotten a chance to explore API basics through the Yelp API. In preparation for your final project, we will investigate another API from scratch. This should provide you with another familiar dataq option as well as practice for applying the same process to new unfamiliar APIs.\n",
    "\n",
    "To start, go over to the API documentation at: \n",
    "\n",
    "https://dev.socrata.com/foundry/data.cityofnewyork.us/fhrw-4uyv\n",
    "\n",
    "\n",
    "<img src=\"311_api_docs.png\">"
   ]
  },
  {
   "cell_type": "markdown",
   "metadata": {},
   "source": [
    "## Make an initial API call to retrieve 311 complaints from a neighborhood or zip code of your choice."
   ]
  },
  {
   "cell_type": "code",
   "execution_count": 2,
   "metadata": {},
   "outputs": [
    {
     "name": "stdout",
     "output_type": "stream",
     "text": [
      "Collecting Socrata\n",
      "  Using cached https://files.pythonhosted.org/packages/62/ac/5bd202cca06f8f5789eab1c098296db00706c5a21472adf3f6bdb02effd8/socrata-0.0.1.tar.gz\n",
      "    Complete output from command python setup.py egg_info:\n",
      "    Traceback (most recent call last):\n",
      "      File \"<string>\", line 1, in <module>\n",
      "      File \"/tmp/pip-install-yhi4k__j/Socrata/setup.py\", line 3, in <module>\n",
      "        from socrata import __version__\n",
      "      File \"/tmp/pip-install-yhi4k__j/Socrata/socrata/__init__.py\", line 1, in <module>\n",
      "        from pickle_warehouse import Warehouse\n",
      "    ModuleNotFoundError: No module named 'pickle_warehouse'\n",
      "    \n",
      "    ----------------------------------------\n",
      "\u001b[31mCommand \"python setup.py egg_info\" failed with error code 1 in /tmp/pip-install-yhi4k__j/Socrata/\u001b[0m\n",
      "\u001b[33mYou are using pip version 10.0.1, however version 18.1 is available.\n",
      "You should consider upgrading via the 'pip install --upgrade pip' command.\u001b[0m\n",
      "Collecting sodapy\n",
      "  Downloading https://files.pythonhosted.org/packages/25/63/1915146aa7c453289cdfe181df30d4009ef3518a87b5c873269582c20c7b/sodapy-1.5.0-py2.py3-none-any.whl\n",
      "Collecting requests>=2.20.0 (from sodapy)\n",
      "\u001b[?25l  Downloading https://files.pythonhosted.org/packages/f1/ca/10332a30cb25b627192b4ea272c351bce3ca1091e541245cccbace6051d8/requests-2.20.0-py2.py3-none-any.whl (60kB)\n",
      "\u001b[K    100% |████████████████████████████████| 61kB 5.9MB/s ta 0:00:01\n",
      "\u001b[?25hCollecting future>=0.17.1 (from sodapy)\n",
      "\u001b[?25l  Downloading https://files.pythonhosted.org/packages/90/52/e20466b85000a181e1e144fd8305caf2cf475e2f9674e797b222f8105f5f/future-0.17.1.tar.gz (829kB)\n",
      "\u001b[K    100% |████████████████████████████████| 829kB 20.5MB/s ta 0:00:01\n",
      "\u001b[?25hRequirement already satisfied: idna<2.8,>=2.5 in /opt/conda/envs/learn-env/lib/python3.6/site-packages (from requests>=2.20.0->sodapy) (2.7)\n",
      "Requirement already satisfied: urllib3<1.25,>=1.21.1 in /opt/conda/envs/learn-env/lib/python3.6/site-packages (from requests>=2.20.0->sodapy) (1.23)\n",
      "Requirement already satisfied: certifi>=2017.4.17 in /opt/conda/envs/learn-env/lib/python3.6/site-packages (from requests>=2.20.0->sodapy) (2018.8.13)\n",
      "Requirement already satisfied: chardet<3.1.0,>=3.0.2 in /opt/conda/envs/learn-env/lib/python3.6/site-packages (from requests>=2.20.0->sodapy) (3.0.4)\n",
      "Building wheels for collected packages: future\n",
      "  Running setup.py bdist_wheel for future ... \u001b[?25ldone\n",
      "\u001b[?25h  Stored in directory: /home/binding-channel-9201/.cache/pip/wheels/0c/61/d2/d6b7317325828fbb39ee6ad559dbe4664d0896da4721bf379e\n",
      "Successfully built future\n",
      "Installing collected packages: requests, future, sodapy\n",
      "  Found existing installation: requests 2.19.1\n",
      "    Uninstalling requests-2.19.1:\n",
      "      Successfully uninstalled requests-2.19.1\n",
      "Successfully installed future-0.17.1 requests-2.20.0 sodapy-1.5.0\n",
      "\u001b[33mYou are using pip version 10.0.1, however version 18.1 is available.\n",
      "You should consider upgrading via the 'pip install --upgrade pip' command.\u001b[0m\n"
     ]
    },
    {
     "name": "stderr",
     "output_type": "stream",
     "text": [
      "WARNING:root:Requests made without an app_token will be subject to strict throttling limits.\n"
     ]
    },
    {
     "ename": "NameError",
     "evalue": "name 'data' is not defined",
     "output_type": "error",
     "traceback": [
      "\u001b[0;31m\u001b[0m",
      "\u001b[0;31mNameError\u001b[0mTraceback (most recent call last)",
      "\u001b[0;32m<ipython-input-2-d464be3eb37e>\u001b[0m in \u001b[0;36m<module>\u001b[0;34m()\u001b[0m\n\u001b[1;32m     10\u001b[0m \u001b[0mSecret_Token\u001b[0m \u001b[0;34m=\u001b[0m \u001b[0;34m'3gla6VzShuiHxQx0YgJIySaq2ybYGe-XE7Ps'\u001b[0m\u001b[0;34m\u001b[0m\u001b[0m\n\u001b[1;32m     11\u001b[0m \u001b[0;34m\u001b[0m\u001b[0m\n\u001b[0;32m---> 12\u001b[0;31m \u001b[0mclient\u001b[0m \u001b[0;34m=\u001b[0m \u001b[0mSocrata\u001b[0m\u001b[0;34m(\u001b[0m\u001b[0mdata\u001b[0m\u001b[0;34m.\u001b[0m\u001b[0mcityofnewyork\u001b[0m\u001b[0;34m.\u001b[0m\u001b[0mus\u001b[0m\u001b[0;34m,\u001b[0m\u001b[0mMyAppToken\u001b[0m\u001b[0;34m,\u001b[0m\u001b[0muserame\u001b[0m\u001b[0;34m=\u001b[0m\u001b[0;34m\"JoeGanser@gmail.com\"\u001b[0m\u001b[0;34m,\u001b[0m\u001b[0mpassword\u001b[0m\u001b[0;34m=\u001b[0m\u001b[0;34m\"\"\u001b[0m\u001b[0;34m)\u001b[0m\u001b[0;34m\u001b[0m\u001b[0m\n\u001b[0m",
      "\u001b[0;31mNameError\u001b[0m: name 'data' is not defined"
     ]
    }
   ],
   "source": [
    "# Your code here\n",
    "!pip install Socrata\n",
    "!pip install sodapy\n",
    "import pandas as pd\n",
    "from sodapy import Socrata\n",
    "client = Socrata(\"data.cityofnewyork.us\", None)\n",
    "\n",
    "MyAppToken = 'aT7gHesu8SZPD8DlrkQvgnbgL'\n",
    "\n",
    "Secret_Token = '3gla6VzShuiHxQx0YgJIySaq2ybYGe-XE7Ps'\n",
    "\n",
    "client = Socrata(data.cityofnewyork.us,MyAppToken,userame=\"JoeGanser@gmail.com\",password=\"\")"
   ]
  },
  {
   "cell_type": "markdown",
   "metadata": {},
   "source": [
    "## Briefly Explore the Structure of the Response You Received."
   ]
  },
  {
   "cell_type": "code",
   "execution_count": null,
   "metadata": {},
   "outputs": [],
   "source": [
    "#Your code here"
   ]
  },
  {
   "cell_type": "markdown",
   "metadata": {},
   "source": [
    "## Create a Pandas DataFrame of the Data From the Response"
   ]
  },
  {
   "cell_type": "code",
   "execution_count": null,
   "metadata": {},
   "outputs": [],
   "source": [
    "#Your code here"
   ]
  },
  {
   "cell_type": "markdown",
   "metadata": {},
   "source": [
    "## Create a Histogram of the Complaint Types From Your Dataset"
   ]
  },
  {
   "cell_type": "code",
   "execution_count": null,
   "metadata": {},
   "outputs": [],
   "source": [
    "# Your code here "
   ]
  }
 ],
 "metadata": {
  "kernelspec": {
   "display_name": "Python 3",
   "language": "python",
   "name": "python3"
  },
  "language_info": {
   "codemirror_mode": {
    "name": "ipython",
    "version": 3
   },
   "file_extension": ".py",
   "mimetype": "text/x-python",
   "name": "python",
   "nbconvert_exporter": "python",
   "pygments_lexer": "ipython3",
   "version": "3.6.6"
  }
 },
 "nbformat": 4,
 "nbformat_minor": 2
}
